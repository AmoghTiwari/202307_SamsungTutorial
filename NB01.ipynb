{
  "nbformat": 4,
  "nbformat_minor": 0,
  "metadata": {
    "colab": {
      "provenance": []
    },
    "kernelspec": {
      "name": "python3",
      "display_name": "Python 3"
    },
    "language_info": {
      "name": "python"
    }
  },
  "cells": [
    {
      "cell_type": "markdown",
      "source": [
        "# SRI-B Advanced Computer Vision Course\n",
        "\n",
        "## Day-1\n",
        "### Notebook-1\n",
        "\n",
        "Topics to Cover\n",
        "\n",
        "1. Loading and Writing Images and Videos <br/>\n",
        "2. Image Representation <br/>\n",
        "    A. Data Types and Stuff <br/>\n",
        "    B. Bit Plane Slicing <br/>\n",
        "3. Image Transformations <br/>\n",
        "    A. Gamma Transform <br/>\n",
        "    B. Linear Contrast Stretching <br/>\n",
        "    C. Histogram Equalization <br/>\n",
        "4. Image Thresholding <br/>"
      ],
      "metadata": {
        "id": "rVLpDbCmK8LY"
      }
    },
    {
      "cell_type": "markdown",
      "source": [
        "# https://tinyurl.com/yxpptysj"
      ],
      "metadata": {
        "id": "kyzMrYq6KuAC"
      }
    },
    {
      "cell_type": "markdown",
      "source": [],
      "metadata": {
        "id": "mIgf8JyOKuGM"
      }
    },
    {
      "cell_type": "code",
      "source": [
        "# git clone https://github.com/AmoghTiwari/202307_SamsungTutorial"
      ],
      "metadata": {
        "id": "ELe5MvUjKtb7"
      },
      "execution_count": 3,
      "outputs": []
    },
    {
      "cell_type": "markdown",
      "source": [
        "# 01. Image / Video - IO"
      ],
      "metadata": {
        "id": "_fcM4JhLKRDn"
      }
    },
    {
      "cell_type": "markdown",
      "source": [
        "Clone [this](https://github.com/AmoghTiwari/202307_SamsungTutorial) repository to your local PC and run the code inside the src directory"
      ],
      "metadata": {
        "id": "QWbT4lm6g2hG"
      }
    },
    {
      "cell_type": "markdown",
      "source": [
        "**Task-01**: Write a code to capture your webcam stream and display it to you. <br/>\n",
        "**01-B**: Modify the key such that 'a' is used to quit"
      ],
      "metadata": {
        "id": "to8xd0tn_STt"
      }
    },
    {
      "cell_type": "markdown",
      "source": [
        "**Task-02**: Modify the code so that the individual frames get saved on your PC <br/>\n",
        "**02-B**: Ensure that everything is getting saved. Debug the code"
      ],
      "metadata": {
        "id": "J5Ju9AuNgs3M"
      }
    },
    {
      "cell_type": "markdown",
      "source": [
        "**Task-03**: Create a video using the frames in the `vid_frames` dir (Please save it at 15 fps instead of the usual 30 fps)\n",
        "\n",
        "Alternatively, you could also use `ffmpeg` as follows\n",
        "\n",
        "```ffmpeg -framerate 15 -i 01_IO/vid_frames/%04d.jpg -c:v libx264 -pix_fmt yuv420p 01_IO/vids/no_magic_ffmpeg.mp4```\n",
        "\n",
        "**03-B**: What is fourcc? In the \"fourcc = cv2.VideoWriter_fourcc(\\*'mp4v')\" line, why is there a \"\\*\" before mp4v? <br/>\n",
        "**03-C**: Check the video. Is there an error? Please fix it <br/>\n",
        "**03-D**: Is there still and error? Is it possible this might be some of our past sins?"
      ],
      "metadata": {
        "id": "guDLQlyvhFKu"
      }
    },
    {
      "cell_type": "markdown",
      "source": [
        "**Task-04**: Recreate the \"magic\" video (Hint: Use the first 15 and last 15 frames, and save it at 15 fps)"
      ],
      "metadata": {
        "id": "wWS2SPlIbo6g"
      }
    },
    {
      "cell_type": "markdown",
      "source": [
        "# 02. Image Representation"
      ],
      "metadata": {
        "id": "WTXkP7m_Kcmn"
      }
    },
    {
      "cell_type": "markdown",
      "source": [
        "**Note**: Clone the [source repo](https://github.com/AmoghTiwari/202307_SamsungTutorial) to your colab session. Please be sure to change paths accordingly"
      ],
      "metadata": {
        "id": "-W7q2Ogkr88D"
      }
    },
    {
      "cell_type": "code",
      "source": [
        "!git clone https://github.com/AmoghTiwari/202307_SamsungTutorial"
      ],
      "metadata": {
        "id": "2dOig6E2sKO5"
      },
      "execution_count": null,
      "outputs": []
    },
    {
      "cell_type": "markdown",
      "source": [
        "## A. Image Data Types and Creation"
      ],
      "metadata": {
        "id": "vZka0Fx5nTXP"
      }
    },
    {
      "cell_type": "markdown",
      "source": [
        "**Task-05**: Clone [this](https://github.com/AmoghTiwari/202307_SamsungTutorial) repository to your colab notebook to get the data files. Then, load the `rabbit_gray.jpg` image and find out it's height, width, data type etc. Figure out what each thing represents.\n",
        "\n",
        "**Note**: You'll need to edit the code before you can use it directly on colab"
      ],
      "metadata": {
        "id": "4wHxOk1bKS6L"
      }
    },
    {
      "cell_type": "markdown",
      "source": [
        "**Task-06**: Create a 300x300 image with a gray background and a vertical white line in the middle. <br/>\n",
        "**06-B**: Display, and save the image using openCV. You might get an error. Fix it. <br/>\n",
        "**06-C**: Display the image with matplotlib. How did the image become coloured? Fix this. <br/>\n",
        "**06-D**: Check the saved image and the matplotlib displayed image. Are they the same? Explain"
      ],
      "metadata": {
        "id": "FvehMbROn4lK"
      }
    },
    {
      "cell_type": "markdown",
      "source": [
        "## B. Bit plane slicing"
      ],
      "metadata": {
        "id": "TIeZxv5KnaIn"
      }
    },
    {
      "cell_type": "markdown",
      "source": [
        "**Task-07**: Let's go back to the rabbit image. How many bits does it have? Can you represent it in lesser number of bits? What is the least number of bits which you could use without losing a lot of information"
      ],
      "metadata": {
        "id": "dtA3vjzvPce3"
      }
    },
    {
      "cell_type": "markdown",
      "source": [
        "# 03. Contrast Stretching"
      ],
      "metadata": {
        "id": "zVQbTcPengME"
      }
    },
    {
      "cell_type": "markdown",
      "source": [
        "**[Image Rotation Block] (ignore; for internal reference)**\n",
        "<!-- ## A. Image Rotation -->\n",
        "<br/>\n",
        "<!-- **Task-07**: Can we rotate the image? <br/>\n",
        "**Task-07B**: Explain forward and inverse mapping <br/>\n",
        "**Task-08 (H.W.)**: Can we resize the image? What concepts used above can be used there? <br/>  -->"
      ],
      "metadata": {
        "id": "jezxmQQ_o-Qx"
      }
    },
    {
      "cell_type": "markdown",
      "source": [
        "## A. Gamma Transform"
      ],
      "metadata": {
        "id": "cUQJwy2snh-T"
      }
    },
    {
      "cell_type": "markdown",
      "source": [
        "**Task-08**: Can you increase/decrease the brightness of an image and/or Improve the contrast in the image? Do it on `aston.png` and `rabbit_gray.png`\n",
        "\n",
        "**08-B**: Why does this work? The range of images is still the same"
      ],
      "metadata": {
        "id": "KZj5BZJPfuuG"
      }
    },
    {
      "cell_type": "markdown",
      "source": [
        "## B. Linear Contrast Stretching"
      ],
      "metadata": {
        "id": "VW525Ks6oXMG"
      }
    },
    {
      "cell_type": "markdown",
      "source": [
        "**Task-09**: That was one example of a transformation (a non-linear transformation), let's discuss some linear transformations also? How about Linear Contrast Stretching?"
      ],
      "metadata": {
        "id": "VQw1hXHqf-bW"
      }
    },
    {
      "cell_type": "markdown",
      "source": [
        "**Task-10**: Do you see any issues with these? Can we fix these? <br/>\n",
        "**10-B**: Identify the hardcoding in the given code. Fix it"
      ],
      "metadata": {
        "id": "7nhnwlcXmKfi"
      }
    },
    {
      "cell_type": "markdown",
      "source": [
        "## C. Histogram Equalization"
      ],
      "metadata": {
        "id": "BmMusF4wPcEu"
      }
    },
    {
      "cell_type": "markdown",
      "source": [
        "**Task-11**: Perform histogram equalization <br/>\n",
        "**11-B**: Save the plotted figure"
      ],
      "metadata": {
        "id": "fc9T9yeyobdB"
      }
    },
    {
      "cell_type": "markdown",
      "source": [
        "**12**: Write the algorithm for histogram equalization from scratch <br/>\n",
        "**Note**: General Comment"
      ],
      "metadata": {
        "id": "NyUtjrFfO053"
      }
    },
    {
      "cell_type": "markdown",
      "source": [
        "# 4. Image Thresholding & Segmentation"
      ],
      "metadata": {
        "id": "oNCEPqrmonVZ"
      }
    },
    {
      "cell_type": "markdown",
      "source": [
        "## A. Thresholding"
      ],
      "metadata": {
        "id": "YtpT45GRQKqj"
      }
    },
    {
      "cell_type": "markdown",
      "source": [
        "**Task-13**: Threshold the `thumbprint.jpeg` image <br/>\n",
        "**13-B**: Save the image with plt.savefig(). Why is the image coming out to be empty <br/>\n",
        "**13-C**: Try doing thresholding on `thumbprint2.jpeg`. What is the issue here? Can we fix it? <br/>\n",
        "**Note**: General Comment"
      ],
      "metadata": {
        "id": "_2MajjmkSkfl"
      }
    },
    {
      "cell_type": "markdown",
      "source": [
        "## B. Otsu's Method"
      ],
      "metadata": {
        "id": "mB6kJQj2QN2y"
      }
    },
    {
      "cell_type": "markdown",
      "source": [
        "**Task-14**: Use Otsu's method? <br/>\n",
        "**Task-15**: Implement Otsu's method yourself"
      ],
      "metadata": {
        "id": "tBBlznj8VX8e"
      }
    },
    {
      "cell_type": "markdown",
      "source": [
        "# Notebook-2"
      ],
      "metadata": {
        "id": "gkNwbGL8stgM"
      }
    },
    {
      "cell_type": "code",
      "source": [],
      "metadata": {
        "id": "oSMwWynMQQ2U"
      },
      "execution_count": null,
      "outputs": []
    }
  ]
}
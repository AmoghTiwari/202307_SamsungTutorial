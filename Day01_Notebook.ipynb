{
 "cells": [
  {
   "cell_type": "markdown",
   "metadata": {
    "id": "rVLpDbCmK8LY"
   },
   "source": [
    "# SRI-B Advanced Computer Vision Course\n",
    "\n",
    "## Day-1\n",
    "### Notebook-1\n",
    "\n",
    "Topics to Cover\n",
    "\n",
    "1. Loading and Writing Images and Videos <br/>\n",
    "2. Image Representation <br/>\n",
    "    A. Data Types and Stuff <br/>\n",
    "    B. Bit Plane Slicing <br/>\n",
    "3. Image Transformations <br/>\n",
    "    A. Gamma Transform <br/>\n",
    "    B. Linear Contrast Stretching <br/>\n",
    "    C. Histogram Equalization <br/>\n",
    "4. Image Thresholding <br/>"
   ]
  },
  {
   "cell_type": "markdown",
   "metadata": {
    "id": "ELe5MvUjKtb7"
   },
   "source": [
    "**Github Repo**:  https://github.com/AmoghTiwari/202307_SamsungTutorial <br/>\n",
    "**Colab Notebook**: https://tinyurl.com/yxpptysj"
   ]
  },
  {
   "cell_type": "markdown",
   "metadata": {},
   "source": [
    "# Setup "
   ]
  },
  {
   "cell_type": "markdown",
   "metadata": {},
   "source": [
    "**See if the below commands work. If not, install those libraries**"
   ]
  },
  {
   "cell_type": "code",
   "execution_count": 1,
   "metadata": {},
   "outputs": [],
   "source": [
    "import cv2 # If not working, install with pip install opencv-python. Create a virtual environment first\n",
    "# It's a good practice to create a virtual environment first\n",
    "\n",
    "# python3 -m venv cv_course OR conda create -n cv_course"
   ]
  },
  {
   "cell_type": "code",
   "execution_count": null,
   "metadata": {},
   "outputs": [],
   "source": [
    "import matplotlib.pyplot as plt # pip install matplotlib"
   ]
  },
  {
   "cell_type": "code",
   "execution_count": null,
   "metadata": {},
   "outputs": [],
   "source": [
    "import numpy as np # pip install numpy"
   ]
  },
  {
   "cell_type": "markdown",
   "metadata": {},
   "source": [
    "**To add local env to jupyter**: https://medium.com/@nrk25693/how-to-add-your-conda-environment-to-your-jupyter-notebook-in-just-4-steps-abeab8b8d084"
   ]
  },
  {
   "cell_type": "markdown",
   "metadata": {
    "id": "_fcM4JhLKRDn"
   },
   "source": [
    "# 01. Image / Video - IO"
   ]
  },
  {
   "cell_type": "markdown",
   "metadata": {
    "id": "QWbT4lm6g2hG"
   },
   "source": [
    "Clone [this](https://github.com/AmoghTiwari/202307_SamsungTutorial) repository to your local PC and run the code inside the src directory"
   ]
  },
  {
   "cell_type": "markdown",
   "metadata": {
    "id": "to8xd0tn_STt"
   },
   "source": [
    "**Task-01**: Write a code to capture your webcam stream and display it to you. <br/>\n",
    "**01-B**: Modify the key such that 'a' is used to quit"
   ]
  },
  {
   "cell_type": "markdown",
   "metadata": {
    "id": "J5Ju9AuNgs3M"
   },
   "source": [
    "**Task-02**: Modify the code so that the individual frames get saved on your PC <br/>\n",
    "**02-B**: Ensure that everything is getting saved. Debug the code"
   ]
  },
  {
   "cell_type": "markdown",
   "metadata": {
    "id": "guDLQlyvhFKu"
   },
   "source": [
    "**Task-03**: Create a video using the frames in the `vid_frames` dir (Please save it at 15 fps instead of the usual 30 fps)\n",
    "\n",
    "Alternatively, you could also use `ffmpeg` as follows\n",
    "\n",
    "```ffmpeg -framerate 15 -i 01_IO/vid_frames/%04d.jpg -c:v libx264 -pix_fmt yuv420p 01_IO/vids/no_magic_ffmpeg.mp4```\n",
    "\n",
    "**03-B**: What is fourcc? In the \"fourcc = cv2.VideoWriter_fourcc(\\*'mp4v')\" line, why is there a \"\\*\" before mp4v? <br/>\n",
    "**03-C**: Check the video. Is there an error? Please fix it <br/>\n",
    "**03-D**: Is there still and error? Is it possible this might be some of our past sins?"
   ]
  },
  {
   "cell_type": "markdown",
   "metadata": {
    "id": "wWS2SPlIbo6g"
   },
   "source": [
    "**Task-04**: Recreate the \"magic\" video (Hint: Use the first 15 and last 15 frames, and save it at 15 fps)"
   ]
  },
  {
   "cell_type": "markdown",
   "metadata": {
    "id": "WTXkP7m_Kcmn"
   },
   "source": [
    "# 02. Image Representation"
   ]
  },
  {
   "cell_type": "markdown",
   "metadata": {
    "id": "-W7q2Ogkr88D"
   },
   "source": [
    "**Note**: Clone the [source repo](https://github.com/AmoghTiwari/202307_SamsungTutorial) to your colab session. Please be sure to change paths accordingly"
   ]
  },
  {
   "cell_type": "code",
   "execution_count": null,
   "metadata": {
    "id": "2dOig6E2sKO5"
   },
   "outputs": [],
   "source": [
    "!git clone https://github.com/AmoghTiwari/202307_SamsungTutorial"
   ]
  },
  {
   "cell_type": "markdown",
   "metadata": {
    "id": "vZka0Fx5nTXP"
   },
   "source": [
    "## A. Image Data Types and Creation"
   ]
  },
  {
   "cell_type": "markdown",
   "metadata": {
    "id": "4wHxOk1bKS6L"
   },
   "source": [
    "**Task-05**: Clone [this](https://github.com/AmoghTiwari/202307_SamsungTutorial) repository to your colab notebook to get the data files. Then, load the `rabbit_gray.jpg` image and find out it's height, width, data type etc. Figure out what each thing represents.\n",
    "\n",
    "**Note**: You'll need to edit the code before you can use it directly on colab"
   ]
  },
  {
   "cell_type": "markdown",
   "metadata": {
    "id": "FvehMbROn4lK"
   },
   "source": [
    "**Task-06**: Create a 300x300 image with a gray background and a vertical white line in the middle. <br/>\n",
    "**06-B**: Display, and save the image using openCV. You might get an error. Fix it. <br/>\n",
    "**06-C**: Display the image with matplotlib. How did the image become coloured? Fix this. <br/>\n",
    "**06-D**: Check the saved image and the matplotlib displayed image. Are they the same? Explain"
   ]
  },
  {
   "cell_type": "markdown",
   "metadata": {
    "id": "TIeZxv5KnaIn"
   },
   "source": [
    "## B. Bit plane slicing"
   ]
  },
  {
   "cell_type": "markdown",
   "metadata": {
    "id": "dtA3vjzvPce3"
   },
   "source": [
    "**Task-07**: Let's go back to the rabbit image. How many bits does it have? Can you represent it in lesser number of bits? What is the least number of bits which you could use without losing a lot of information"
   ]
  },
  {
   "cell_type": "markdown",
   "metadata": {
    "id": "zVQbTcPengME"
   },
   "source": [
    "# 03. Contrast Stretching"
   ]
  },
  {
   "cell_type": "markdown",
   "metadata": {
    "id": "jezxmQQ_o-Qx"
   },
   "source": [
    "**[Image Rotation Block] (ignore; for internal reference)**\n",
    "<!-- ## A. Image Rotation -->\n",
    "<br/>\n",
    "<!-- **Task-07**: Can we rotate the image? <br/>\n",
    "**Task-07B**: Explain forward and inverse mapping <br/>\n",
    "**Task-08 (H.W.)**: Can we resize the image? What concepts used above can be used there? <br/>  -->"
   ]
  },
  {
   "cell_type": "markdown",
   "metadata": {
    "id": "cUQJwy2snh-T"
   },
   "source": [
    "## A. Gamma Transform"
   ]
  },
  {
   "cell_type": "markdown",
   "metadata": {
    "id": "KZj5BZJPfuuG"
   },
   "source": [
    "**Task-08**: Can you increase/decrease the brightness of an image and/or Improve the contrast in the image? Do it on `aston.png` and `rabbit_gray.png`\n",
    "\n",
    "**08-B**: Why does this work? The range of images is still the same"
   ]
  },
  {
   "cell_type": "markdown",
   "metadata": {
    "id": "VW525Ks6oXMG"
   },
   "source": [
    "## B. Linear Contrast Stretching"
   ]
  },
  {
   "cell_type": "markdown",
   "metadata": {
    "id": "VQw1hXHqf-bW"
   },
   "source": [
    "**Task-09**: That was one example of a transformation (a non-linear transformation), let's discuss some linear transformations also? How about Linear Contrast Stretching?"
   ]
  },
  {
   "cell_type": "markdown",
   "metadata": {
    "id": "7nhnwlcXmKfi"
   },
   "source": [
    "**Task-10**: Do you see any issues with these? Can we fix these? <br/>\n",
    "**10-B**: Identify the hardcoding in the given code. Fix it"
   ]
  },
  {
   "cell_type": "markdown",
   "metadata": {
    "id": "BmMusF4wPcEu"
   },
   "source": [
    "## C. Histogram Equalization"
   ]
  },
  {
   "cell_type": "markdown",
   "metadata": {
    "id": "fc9T9yeyobdB"
   },
   "source": [
    "**Task-11**: Perform histogram equalization <br/>\n",
    "**11-B**: Save the plotted figure"
   ]
  },
  {
   "cell_type": "markdown",
   "metadata": {
    "id": "NyUtjrFfO053"
   },
   "source": [
    "**12**: Write the algorithm for histogram equalization from scratch <br/>\n",
    "**Note**: General Comment"
   ]
  },
  {
   "cell_type": "markdown",
   "metadata": {
    "id": "oNCEPqrmonVZ"
   },
   "source": [
    "# 4. Image Thresholding & Segmentation"
   ]
  },
  {
   "cell_type": "markdown",
   "metadata": {
    "id": "YtpT45GRQKqj"
   },
   "source": [
    "## A. Thresholding"
   ]
  },
  {
   "cell_type": "markdown",
   "metadata": {
    "id": "_2MajjmkSkfl"
   },
   "source": [
    "**Task-13**: Threshold the `thumbprint.jpeg` image <br/>\n",
    "**13-B**: Save the image with plt.savefig(). Why is the image coming out to be empty <br/>\n",
    "**13-C**: Try doing thresholding on `thumbprint2.jpeg`. What is the issue here? Can we fix it? <br/>\n",
    "**Note**: General Comment"
   ]
  },
  {
   "cell_type": "markdown",
   "metadata": {
    "id": "mB6kJQj2QN2y"
   },
   "source": [
    "## B. Otsu's Method"
   ]
  },
  {
   "cell_type": "markdown",
   "metadata": {
    "id": "tBBlznj8VX8e"
   },
   "source": [
    "**Task-14**: Use Otsu's method? <br/>\n",
    "**Task-15**: Implement Otsu's method yourself"
   ]
  },
  {
   "cell_type": "code",
   "execution_count": null,
   "metadata": {
    "id": "oSMwWynMQQ2U"
   },
   "outputs": [],
   "source": []
  }
 ],
 "metadata": {
  "colab": {
   "provenance": []
  },
  "kernelspec": {
   "display_name": "experimental",
   "language": "python",
   "name": "experimental"
  },
  "language_info": {
   "codemirror_mode": {
    "name": "ipython",
    "version": 3
   },
   "file_extension": ".py",
   "mimetype": "text/x-python",
   "name": "python",
   "nbconvert_exporter": "python",
   "pygments_lexer": "ipython3",
   "version": "3.10.8"
  }
 },
 "nbformat": 4,
 "nbformat_minor": 1
}
